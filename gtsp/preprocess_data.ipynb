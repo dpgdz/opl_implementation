{
 "cells": [
  {
   "cell_type": "code",
   "execution_count": 1,
   "metadata": {},
   "outputs": [],
   "source": [
    "import re\n",
    "import numpy as np\n",
    "\n",
    "paths=open(\"/Users/duongphuonggiang/opl_implementation/gtsp/data/paths.txt\").read()\n",
    "paths = paths.split('\\n')\n",
    "for path in paths:\n",
    "    text=open(\"/Users/duongphuonggiang/Downloads/\"+path).read()\n",
    "\n",
    "    node_coords_text = re.findall(r'NODE_COORD_SECTION(.*?)GTSP_SET_SECTION:', text, re.DOTALL)[0]\n",
    "    gtsp_sets_text = re.findall(r'GTSP_SET_SECTION:(.*?)EOF', text, re.DOTALL)[0]\n",
    "\n",
    "    node_coords = re.findall(r'(\\d+)\\s+([\\d\\.]+)\\s+([\\d\\.]+)', node_coords_text)\n",
    "    node_coords = [(float(lat), float(lon)) for _, lat, lon in node_coords]\n",
    "\n",
    "    gtsp_sets = re.findall(r'(\\d+)\\s(.*?)\\s-1', gtsp_sets_text)\n",
    "    gtsp_sets = {int(set_id): [int(idx) for idx in nodes.split()] for set_id, nodes in gtsp_sets}\n",
    "\n",
    "    cluster_idx = [0] * len(node_coords)  \n",
    "    for set_id, nodes in gtsp_sets.items():\n",
    "        for idx in nodes:\n",
    "            cluster_idx[idx - 1] = set_id\n",
    "\n",
    "    def euclidean_distance(point1, point2):\n",
    "        return round(np.sqrt((point1[0] - point2[0])**2 + (point1[1] - point2[1])**2), 2)\n",
    "\n",
    "    costs = [[euclidean_distance(node_coords[i], node_coords[j]) for j in range(len(node_coords))] for i in range(len(node_coords))]\n",
    "\n",
    "    nbV = len(node_coords)\n",
    "    nbC = len(gtsp_sets)\n",
    "    output = path+\".txt\"\n",
    "\n",
    "    with open(output, 'w') as file:\n",
    "        file.write(f\"nbV = {nbV};\\n\")\n",
    "        file.write(f\"nbC = {nbC};\\n\")\n",
    "        file.write(f\"cluster_idx = {cluster_idx};\\n\")\n",
    "        file.write(\"costs = [\\n\")\n",
    "        for row in costs:\n",
    "            file.write(f\"   {row}\\n\")\n",
    "        file.write(\"];\\n\")"
   ]
  }
 ],
 "metadata": {
  "kernelspec": {
   "display_name": "Python 3",
   "language": "python",
   "name": "python3"
  },
  "language_info": {
   "codemirror_mode": {
    "name": "ipython",
    "version": 3
   },
   "file_extension": ".py",
   "mimetype": "text/x-python",
   "name": "python",
   "nbconvert_exporter": "python",
   "pygments_lexer": "ipython3",
   "version": "3.11.8"
  }
 },
 "nbformat": 4,
 "nbformat_minor": 2
}
